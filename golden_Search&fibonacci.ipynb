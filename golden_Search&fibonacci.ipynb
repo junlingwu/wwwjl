{
 "cells": [
  {
   "cell_type": "code",
   "execution_count": 6,
   "metadata": {},
   "outputs": [
    {
     "data": {
      "text/plain": [
       "golden_Search (generic function with 2 methods)"
      ]
     },
     "execution_count": 6,
     "metadata": {},
     "output_type": "execute_result"
    }
   ],
   "source": [
    "function golden_Search(f,l0,r0,e=0.01)\n",
    "    n = ceil(log(e/abs(l0-r0))/log(0.618))\n",
    "    if l0<r0\n",
    "        l = l0\n",
    "        r = r0\n",
    "    else\n",
    "        if l0>r0\n",
    "            l = r0\n",
    "            r = l0\n",
    "        else\n",
    "            println(\"ERROR!\")\n",
    "        end\n",
    "    end\n",
    "    \n",
    "    for i=1:n\n",
    "        l1=l+0.382(r-l)\n",
    "        r1=l+0.618(r-l)\n",
    "        fl1=f(l1)\n",
    "        fr1=f(r1)\n",
    "        if fl1<fr1\n",
    "            r=r1\n",
    "        else\n",
    "            l=l1\n",
    "        end\n",
    "    end\n",
    "    return l,r\n",
    "end\n"
   ]
  },
  {
   "cell_type": "code",
   "execution_count": 7,
   "metadata": {},
   "outputs": [
    {
     "data": {
      "text/plain": [
       "(0.652478180448, 0.944210064)"
      ]
     },
     "execution_count": 7,
     "metadata": {},
     "output_type": "execute_result"
    }
   ],
   "source": [
    "golden_Search(x->x^4-14*x^3+60*x^2-70*x,0,2,0.3)"
   ]
  },
  {
   "cell_type": "code",
   "execution_count": 8,
   "metadata": {},
   "outputs": [
    {
     "data": {
      "text/plain": [
       "fibonacci (generic function with 2 methods)"
      ]
     },
     "execution_count": 8,
     "metadata": {},
     "output_type": "execute_result"
    }
   ],
   "source": [
    "function fibonacci(f,l0,r0,e=0.3)\n",
    "    if l0<r0\n",
    "        l = l0\n",
    "        r = r0\n",
    "    else\n",
    "        if l0>r0\n",
    "            l = r0\n",
    "            r = l0\n",
    "        else\n",
    "            println(\"ERROR!\")\n",
    "        end\n",
    "    end\n",
    "    p=0\n",
    "    threshold=abs(r0-l0)/e\n",
    "    fib=[1,2]\n",
    "    n=3\n",
    "    current=fib[n-1]+fib[n-2]\n",
    "    while current<threshold\n",
    "        push!(fib,current)\n",
    "        n+=1\n",
    "        current=fib[n-1]+fib[n-2]\n",
    "    end\n",
    "    push!(fib,current)\n",
    "   \n",
    "    for i=1:(n-1)\n",
    "        if i<(n-1)\n",
    "          p=1-fib[n-i]/fib[n-i+1]\n",
    "          l1=l+p*(r-l)\n",
    "          r1=l+(1-p)*(r-l)\n",
    "          fl1=f(l1)\n",
    "          fr1=f(r1)\n",
    "        else      \n",
    "          p=1-fib[n-i]/fib[n-i+1]\n",
    "          l1=l+(p-0.05)*(r-l)  ##最后一次迭代令e=0.05 \n",
    "          r1=l+(1-p)*(r-l)\n",
    "          fl1=f(l1)\n",
    "          fr1=f(r1)            \n",
    "        end\n",
    "        if fl1<fr1\n",
    "            r=r1\n",
    "        else\n",
    "            l=l1\n",
    "        end\n",
    "    end\n",
    "    return l,r\n",
    "end\n"
   ]
  },
  {
   "cell_type": "code",
   "execution_count": 9,
   "metadata": {},
   "outputs": [
    {
     "data": {
      "text/plain": [
       "(0.725, 1.0)"
      ]
     },
     "execution_count": 9,
     "metadata": {},
     "output_type": "execute_result"
    }
   ],
   "source": [
    "fibonacci(x->x^4-14*x^3+60*x^2-70*x,0,2,0.3)"
   ]
  },
  {
   "cell_type": "code",
   "execution_count": null,
   "metadata": {},
   "outputs": [],
   "source": []
  }
 ],
 "metadata": {
  "kernelspec": {
   "display_name": "Julia 0.6.2",
   "language": "julia",
   "name": "julia-0.6"
  },
  "language_info": {
   "file_extension": ".jl",
   "mimetype": "application/julia",
   "name": "julia",
   "version": "0.6.2"
  }
 },
 "nbformat": 4,
 "nbformat_minor": 2
}
